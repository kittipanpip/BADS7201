{
  "nbformat": 4,
  "nbformat_minor": 0,
  "metadata": {
    "kernelspec": {
      "display_name": "Python 3",
      "language": "python",
      "name": "python3"
    },
    "language_info": {
      "codemirror_mode": {
        "name": "ipython",
        "version": 3
      },
      "file_extension": ".py",
      "mimetype": "text/x-python",
      "name": "python",
      "nbconvert_exporter": "python",
      "pygments_lexer": "ipython3",
      "version": "3.7.3"
    },
    "colab": {
      "name": "Link Prediction in Inter-orgnatizational Coordination Network of Flood Victims Assitance.ipynb",
      "provenance": [],
      "collapsed_sections": [],
      "toc_visible": true,
      "include_colab_link": true
    },
    "accelerator": "GPU"
  },
  "cells": [
    {
      "cell_type": "markdown",
      "metadata": {
        "id": "view-in-github",
        "colab_type": "text"
      },
      "source": [
        "<a href=\"https://colab.research.google.com/github/kittipanpip/BADS7201/blob/main/code/Link_Prediction_in_Inter_orgnatizational_Coordination_Network_of_Flood_Victims_Assitance.ipynb\" target=\"_parent\"><img src=\"https://colab.research.google.com/assets/colab-badge.svg\" alt=\"Open In Colab\"/></a>"
      ]
    },
    {
      "cell_type": "code",
      "metadata": {
        "id": "kitvqWWHm09y"
      },
      "source": [
        "#!pip install ampligraph"
      ],
      "execution_count": null,
      "outputs": []
    },
    {
      "cell_type": "code",
      "metadata": {
        "id": "BzzPjldcnIVo"
      },
      "source": [
        "#!pip uninstall tensorflow\n",
        "#!pip install tensorflow==1.13.2"
      ],
      "execution_count": null,
      "outputs": []
    },
    {
      "cell_type": "code",
      "metadata": {
        "id": "WyWp4ZukmlRh",
        "colab": {
          "base_uri": "https://localhost:8080/",
          "height": 264
        },
        "outputId": "4e21353e-f529-4133-bb55-5d1eb8a6900d"
      },
      "source": [
        "import numpy as np\n",
        "import pandas as pd\n",
        "import ampligraph\n",
        "\n",
        "ampligraph.__version__"
      ],
      "execution_count": null,
      "outputs": [
        {
          "output_type": "stream",
          "name": "stderr",
          "text": [
            "/usr/local/lib/python3.7/dist-packages/tensorflow/python/framework/dtypes.py:526: FutureWarning: Passing (type, 1) or '1type' as a synonym of type is deprecated; in a future version of numpy, it will be understood as (type, (1,)) / '(1,)type'.\n",
            "  _np_qint8 = np.dtype([(\"qint8\", np.int8, 1)])\n",
            "/usr/local/lib/python3.7/dist-packages/tensorflow/python/framework/dtypes.py:527: FutureWarning: Passing (type, 1) or '1type' as a synonym of type is deprecated; in a future version of numpy, it will be understood as (type, (1,)) / '(1,)type'.\n",
            "  _np_quint8 = np.dtype([(\"quint8\", np.uint8, 1)])\n",
            "/usr/local/lib/python3.7/dist-packages/tensorflow/python/framework/dtypes.py:528: FutureWarning: Passing (type, 1) or '1type' as a synonym of type is deprecated; in a future version of numpy, it will be understood as (type, (1,)) / '(1,)type'.\n",
            "  _np_qint16 = np.dtype([(\"qint16\", np.int16, 1)])\n",
            "/usr/local/lib/python3.7/dist-packages/tensorflow/python/framework/dtypes.py:529: FutureWarning: Passing (type, 1) or '1type' as a synonym of type is deprecated; in a future version of numpy, it will be understood as (type, (1,)) / '(1,)type'.\n",
            "  _np_quint16 = np.dtype([(\"quint16\", np.uint16, 1)])\n",
            "/usr/local/lib/python3.7/dist-packages/tensorflow/python/framework/dtypes.py:530: FutureWarning: Passing (type, 1) or '1type' as a synonym of type is deprecated; in a future version of numpy, it will be understood as (type, (1,)) / '(1,)type'.\n",
            "  _np_qint32 = np.dtype([(\"qint32\", np.int32, 1)])\n",
            "/usr/local/lib/python3.7/dist-packages/tensorflow/python/framework/dtypes.py:535: FutureWarning: Passing (type, 1) or '1type' as a synonym of type is deprecated; in a future version of numpy, it will be understood as (type, (1,)) / '(1,)type'.\n",
            "  np_resource = np.dtype([(\"resource\", np.ubyte, 1)])\n"
          ]
        },
        {
          "output_type": "execute_result",
          "data": {
            "application/vnd.google.colaboratory.intrinsic+json": {
              "type": "string"
            },
            "text/plain": [
              "'1.4.0'"
            ]
          },
          "metadata": {},
          "execution_count": 1
        }
      ]
    },
    {
      "cell_type": "markdown",
      "source": [
        "# 1.Dataset exploration\n"
      ],
      "metadata": {
        "id": "6BCj4bb6voGn"
      }
    },
    {
      "cell_type": "code",
      "metadata": {
        "id": "RhwaOErIV7Fu",
        "colab": {
          "base_uri": "https://localhost:8080/"
        },
        "outputId": "90e9d5ba-6254-4969-809c-8153863d1ce9"
      },
      "source": [
        "from google.colab import drive\n",
        "drive.mount('/content/drive')"
      ],
      "execution_count": null,
      "outputs": [
        {
          "output_type": "stream",
          "name": "stdout",
          "text": [
            "Drive already mounted at /content/drive; to attempt to forcibly remount, call drive.mount(\"/content/drive\", force_remount=True).\n"
          ]
        }
      ]
    },
    {
      "cell_type": "code",
      "metadata": {
        "id": "uXcLgtMemlRj",
        "colab": {
          "base_uri": "https://localhost:8080/"
        },
        "outputId": "45560793-29b5-400a-ef3c-d9ba8fa4b521"
      },
      "source": [
        "src = pd.read_csv(\"/content/drive/My Drive/data.csv\",header=None)\n",
        "df = src.copy()\n",
        "X = np.array(df.values.tolist())\n",
        "print(X.shape)\n",
        "X = np.unique(X, axis=0)\n",
        "print(X.shape)\n",
        "X[:10]"
      ],
      "execution_count": null,
      "outputs": [
        {
          "output_type": "stream",
          "name": "stdout",
          "text": [
            "(358, 3)\n",
            "(225, 3)\n"
          ]
        },
        {
          "output_type": "execute_result",
          "data": {
            "text/plain": [
              "array([['Armed Forces Headquarters', 'NEEDS MANAGEMENT', 'Unidentified'],\n",
              "       ['Department of Disaster Prevention and Mitigation', 'CAPABILITY',\n",
              "        'Local Authorities'],\n",
              "       ['Department of Disease Control', 'ASSESSMENT', 'Local Hospital'],\n",
              "       ['Department of Disease Control', 'ASSESSMENT', 'Unidentified'],\n",
              "       ['Disaster Prevention and Mitigation Department', 'ASSESSMENT',\n",
              "        'Royal Thai Navy'],\n",
              "       ['Disaster Prevention and Mitigation Department', 'ASSET',\n",
              "        'Unidentified'],\n",
              "       ['Disaster Prevention and Mitigation Department', 'CAPABILITY',\n",
              "        'Unidentified'],\n",
              "       ['Disaster Prevention and Mitigation Department', 'DISSEMINATION',\n",
              "        'Hydro and Agro Informatics Institute'],\n",
              "       ['Disaster Prevention and Mitigation Department', 'DISSEMINATION',\n",
              "        'Ministry of Defense'],\n",
              "       ['Disaster Prevention and Mitigation Department', 'DISSEMINATION',\n",
              "        'National Disaster Warning Center']], dtype='<U48')"
            ]
          },
          "metadata": {},
          "execution_count": 3
        }
      ]
    },
    {
      "cell_type": "code",
      "metadata": {
        "id": "ry1-5yTdmlRk",
        "colab": {
          "base_uri": "https://localhost:8080/"
        },
        "outputId": "18a3c2a5-6c84-4469-843c-66d765930699"
      },
      "source": [
        "entities = np.unique(np.concatenate([X[:, 0], X[:, 2]]))\n",
        "print(len(entities))\n",
        "entities[:10]"
      ],
      "execution_count": null,
      "outputs": [
        {
          "output_type": "stream",
          "name": "stdout",
          "text": [
            "69\n"
          ]
        },
        {
          "output_type": "execute_result",
          "data": {
            "text/plain": [
              "array(['18th Military Circle', 'Agricultural Economic Office',\n",
              "       'Armed Forces Headquarters', \"Ayutthaya's Rama VI dam\",\n",
              "       'Chao Phraya Dam Authority', 'Community Leader',\n",
              "       'Department of Agricultural Extension',\n",
              "       'Department of Disaster Prevention and Mitigation',\n",
              "       'Department of Disease Control',\n",
              "       'Disaster Prevention and Mitigation Department'], dtype='<U48')"
            ]
          },
          "metadata": {},
          "execution_count": 4
        }
      ]
    },
    {
      "cell_type": "code",
      "metadata": {
        "id": "dVg4gpdFmlRl",
        "colab": {
          "base_uri": "https://localhost:8080/"
        },
        "outputId": "d631da78-9221-4610-f6d5-995200dcdeb1"
      },
      "source": [
        "relations = np.unique(X[:, 1])\n",
        "print(len(relations))\n",
        "relations[:10]"
      ],
      "execution_count": null,
      "outputs": [
        {
          "output_type": "stream",
          "name": "stdout",
          "text": [
            "22\n"
          ]
        },
        {
          "output_type": "execute_result",
          "data": {
            "text/plain": [
              "array(['ASSESSMENT', 'ASSET', 'CAPABILITY', 'CENTER', 'DISSEMINATION',\n",
              "       'EASE', 'EVACUATION', 'LIMIT', 'MEDICAL', 'NEEDS MANAGEMENT'],\n",
              "      dtype='<U48')"
            ]
          },
          "metadata": {},
          "execution_count": 5
        }
      ]
    },
    {
      "cell_type": "markdown",
      "source": [
        "Import unseen dataset for link prediction"
      ],
      "metadata": {
        "id": "-SfZujDZJ8Y4"
      }
    },
    {
      "cell_type": "code",
      "source": [
        "src2 = pd.read_csv(\"/content/drive/My Drive/X_unseen.csv\",header=None)\n",
        "df2 = src2.copy()\n",
        "X_unseen = np.array(df2.values.tolist())"
      ],
      "metadata": {
        "id": "devyxFl3TxwD"
      },
      "execution_count": null,
      "outputs": []
    },
    {
      "cell_type": "code",
      "source": [
        "print(len(X_unseen))"
      ],
      "metadata": {
        "colab": {
          "base_uri": "https://localhost:8080/"
        },
        "id": "V5rETWx6a-9O",
        "outputId": "726bfc12-e33a-49fd-99a4-2415b6f683b5"
      },
      "execution_count": null,
      "outputs": [
        {
          "output_type": "stream",
          "name": "stdout",
          "text": [
            "51476\n"
          ]
        }
      ]
    },
    {
      "cell_type": "markdown",
      "source": [
        "# 2.Defining train and test datasets"
      ],
      "metadata": {
        "id": "U1qqn9kH_gSS"
      }
    },
    {
      "cell_type": "code",
      "metadata": {
        "id": "SUcJjPGvmlRm"
      },
      "source": [
        "from ampligraph.evaluation import train_test_split_no_unseen \n",
        "\n",
        "X_train, X_test = train_test_split_no_unseen(X, test_size=45) "
      ],
      "execution_count": null,
      "outputs": []
    },
    {
      "cell_type": "code",
      "metadata": {
        "id": "a_6OgKlumlRn",
        "colab": {
          "base_uri": "https://localhost:8080/"
        },
        "outputId": "e79f1449-3582-4167-f9da-43bb93345fdc"
      },
      "source": [
        "print('Train set size: ', X_train.shape)\n",
        "print('Test set size: ', X_test.shape)"
      ],
      "execution_count": null,
      "outputs": [
        {
          "output_type": "stream",
          "name": "stdout",
          "text": [
            "Train set size:  (180, 3)\n",
            "Test set size:  (45, 3)\n"
          ]
        }
      ]
    },
    {
      "cell_type": "markdown",
      "source": [
        "# 3.Train Model"
      ],
      "metadata": {
        "id": "rY_8uzg6_tGn"
      }
    },
    {
      "cell_type": "markdown",
      "metadata": {
        "id": "6IyYMOUNwVb-"
      },
      "source": [
        "**Ampligraph**\n",
        "\n",
        "Models: TransE, DistMult, ComplEx\n",
        "\n",
        "Optimizers: sgd, adagrad, adam, momentum"
      ]
    },
    {
      "cell_type": "code",
      "metadata": {
        "id": "fu6ur-1YmlRo"
      },
      "source": [
        "from ampligraph.latent_features import TransE\n",
        "from ampligraph.latent_features import DistMult\n",
        "from ampligraph.latent_features import ComplEx"
      ],
      "execution_count": null,
      "outputs": []
    },
    {
      "cell_type": "code",
      "source": [
        "params = {\"batches_count\": 50, \n",
        "                \"seed\":0, \n",
        "                \"epochs\":200, \n",
        "                \"k\":150, \n",
        "                \"eta\":5,\n",
        "                \"optimizer_params\":{'lr':1e-3},\n",
        "                \"loss\":'multiclass_nll', \n",
        "                \"regularizer\":'LP', \n",
        "                \"regularizer_params\":{'p':3, 'lambda':1e-5}, \n",
        "                \"verbose\":True\n",
        "}\n",
        "\n",
        "models = [\n",
        "           ('TransE_sgd', TransE(**params, optimizer='sgd')),\n",
        "           ('TransE_adagrad', TransE(**params, optimizer='adagrad')),\n",
        "           ('TransE_adam', TransE(**params, optimizer='adam')),\n",
        "           ('TransE_momentum', TransE(**params, optimizer='momentum')),\n",
        "           ('DistMult_sgd', DistMult(**params, optimizer='sgd')),\n",
        "           ('DistMult_adagrad', DistMult(**params, optimizer='adagrad')),\n",
        "           ('DistMult_adam', DistMult(**params, optimizer='adam')),\n",
        "           ('DistMult_momentum', DistMult(**params, optimizer='momentum')),\n",
        "           ('ComplEx_sgd', ComplEx(**params, optimizer='sgd')),\n",
        "           ('ComplEx_adagrad', ComplEx(**params, optimizer='adagrad')),\n",
        "           ('ComplEx_adam', ComplEx(**params, optimizer='adam')),\n",
        "           ('ComplEx_momentum', ComplEx(**params, optimizer='momentum'))   \n",
        "          ]          "
      ],
      "metadata": {
        "id": "IwdfUOQkFjHB"
      },
      "execution_count": null,
      "outputs": []
    },
    {
      "cell_type": "code",
      "metadata": {
        "id": "XbMJA4gxG6X7"
      },
      "source": [
        "positives_filter = X"
      ],
      "execution_count": null,
      "outputs": []
    },
    {
      "cell_type": "code",
      "source": [
        "import tensorflow as tf\n",
        "tf.logging.set_verbosity(tf.logging.ERROR)\n",
        "\n",
        "for name, model in models:\n",
        "  print(\"======== Train Model \" + name + \"====================\")\n",
        "  model.fit(X_train, early_stopping = False)"
      ],
      "metadata": {
        "colab": {
          "base_uri": "https://localhost:8080/"
        },
        "id": "IhdwVG5RI0ki",
        "outputId": "926a3a22-23f3-48d4-caf8-a0725002f4f4"
      },
      "execution_count": null,
      "outputs": [
        {
          "output_type": "stream",
          "name": "stdout",
          "text": [
            "======== Train Model TransE_sgd====================\n"
          ]
        },
        {
          "output_type": "stream",
          "name": "stderr",
          "text": [
            "Average TransE Loss:   0.161892: 100%|██████████| 200/200 [00:13<00:00, 15.08epoch/s]\n"
          ]
        },
        {
          "output_type": "stream",
          "name": "stdout",
          "text": [
            "======== Train Model TransE_adagrad====================\n"
          ]
        },
        {
          "output_type": "stream",
          "name": "stderr",
          "text": [
            "Average TransE Loss:   0.634015: 100%|██████████| 200/200 [00:13<00:00, 14.86epoch/s]\n"
          ]
        },
        {
          "output_type": "stream",
          "name": "stdout",
          "text": [
            "======== Train Model TransE_adam====================\n"
          ]
        },
        {
          "output_type": "stream",
          "name": "stderr",
          "text": [
            "Average TransE Loss:   0.112308: 100%|██████████| 200/200 [00:14<00:00, 13.73epoch/s]\n"
          ]
        },
        {
          "output_type": "stream",
          "name": "stdout",
          "text": [
            "======== Train Model TransE_momentum====================\n"
          ]
        },
        {
          "output_type": "stream",
          "name": "stderr",
          "text": [
            "Average TransE Loss:   0.118920: 100%|██████████| 200/200 [00:13<00:00, 14.87epoch/s]\n"
          ]
        },
        {
          "output_type": "stream",
          "name": "stdout",
          "text": [
            "======== Train Model DistMult_sgd====================\n"
          ]
        },
        {
          "output_type": "stream",
          "name": "stderr",
          "text": [
            "Average DistMult Loss:   1.608152: 100%|██████████| 200/200 [00:13<00:00, 15.07epoch/s]\n"
          ]
        },
        {
          "output_type": "stream",
          "name": "stdout",
          "text": [
            "======== Train Model DistMult_adagrad====================\n"
          ]
        },
        {
          "output_type": "stream",
          "name": "stderr",
          "text": [
            "Average DistMult Loss:   1.598741: 100%|██████████| 200/200 [00:13<00:00, 14.76epoch/s]\n"
          ]
        },
        {
          "output_type": "stream",
          "name": "stdout",
          "text": [
            "======== Train Model DistMult_adam====================\n"
          ]
        },
        {
          "output_type": "stream",
          "name": "stderr",
          "text": [
            "Average DistMult Loss:   0.115209: 100%|██████████| 200/200 [00:14<00:00, 13.71epoch/s]\n"
          ]
        },
        {
          "output_type": "stream",
          "name": "stdout",
          "text": [
            "======== Train Model DistMult_momentum====================\n"
          ]
        },
        {
          "output_type": "stream",
          "name": "stderr",
          "text": [
            "Average DistMult Loss:   0.552800: 100%|██████████| 200/200 [00:13<00:00, 14.83epoch/s]\n"
          ]
        },
        {
          "output_type": "stream",
          "name": "stdout",
          "text": [
            "======== Train Model ComplEx_sgd====================\n"
          ]
        },
        {
          "output_type": "stream",
          "name": "stderr",
          "text": [
            "Average ComplEx Loss:   1.605918: 100%|██████████| 200/200 [00:19<00:00, 10.52epoch/s]\n"
          ]
        },
        {
          "output_type": "stream",
          "name": "stdout",
          "text": [
            "======== Train Model ComplEx_adagrad====================\n"
          ]
        },
        {
          "output_type": "stream",
          "name": "stderr",
          "text": [
            "Average ComplEx Loss:   1.594693: 100%|██████████| 200/200 [00:19<00:00, 10.02epoch/s]\n"
          ]
        },
        {
          "output_type": "stream",
          "name": "stdout",
          "text": [
            "======== Train Model ComplEx_adam====================\n"
          ]
        },
        {
          "output_type": "stream",
          "name": "stderr",
          "text": [
            "Average ComplEx Loss:   0.085600: 100%|██████████| 200/200 [00:20<00:00,  9.54epoch/s]\n"
          ]
        },
        {
          "output_type": "stream",
          "name": "stdout",
          "text": [
            "======== Train Model ComplEx_momentum====================\n"
          ]
        },
        {
          "output_type": "stream",
          "name": "stderr",
          "text": [
            "Average ComplEx Loss:   0.436572: 100%|██████████| 200/200 [00:19<00:00, 10.18epoch/s]\n"
          ]
        }
      ]
    },
    {
      "cell_type": "markdown",
      "source": [
        "# 4.Evaluating a model"
      ],
      "metadata": {
        "id": "k7_4wm8P_8Eu"
      }
    },
    {
      "cell_type": "code",
      "metadata": {
        "id": "Qp1nBRSemlRu"
      },
      "source": [
        "from ampligraph.evaluation import evaluate_performance"
      ],
      "execution_count": null,
      "outputs": []
    },
    {
      "cell_type": "code",
      "source": [
        "ranks = []\n",
        "\n",
        "for name, model in models:\n",
        "  tmp =  evaluate_performance(X_test, \n",
        "                             model=model, \n",
        "                             filter_triples=positives_filter,   # Corruption strategy filter defined above \n",
        "                             use_default_protocol=True, # corrupt subj and obj separately while evaluating\n",
        "                             verbose=True)\n",
        "  ranks.append((\"rank_\"+ name, tmp))\n",
        "  tmp = []"
      ],
      "metadata": {
        "colab": {
          "base_uri": "https://localhost:8080/"
        },
        "id": "Cwh6wyovKXdP",
        "outputId": "8a3efead-8f46-4c26-d5c9-4cc4a0b7b003"
      },
      "execution_count": null,
      "outputs": [
        {
          "output_type": "stream",
          "name": "stdout",
          "text": [
            "WARNING - DeprecationWarning: use_default_protocol will be removed in future. Please use corrupt_side argument instead.\n"
          ]
        },
        {
          "output_type": "stream",
          "name": "stderr",
          "text": [
            "100%|██████████| 45/45 [00:00<00:00, 480.73it/s]\n"
          ]
        },
        {
          "output_type": "stream",
          "name": "stdout",
          "text": [
            "WARNING - DeprecationWarning: use_default_protocol will be removed in future. Please use corrupt_side argument instead.\n"
          ]
        },
        {
          "output_type": "stream",
          "name": "stderr",
          "text": [
            "100%|██████████| 45/45 [00:00<00:00, 491.41it/s]\n"
          ]
        },
        {
          "output_type": "stream",
          "name": "stdout",
          "text": [
            "WARNING - DeprecationWarning: use_default_protocol will be removed in future. Please use corrupt_side argument instead.\n"
          ]
        },
        {
          "output_type": "stream",
          "name": "stderr",
          "text": [
            "100%|██████████| 45/45 [00:00<00:00, 467.90it/s]\n"
          ]
        },
        {
          "output_type": "stream",
          "name": "stdout",
          "text": [
            "WARNING - DeprecationWarning: use_default_protocol will be removed in future. Please use corrupt_side argument instead.\n"
          ]
        },
        {
          "output_type": "stream",
          "name": "stderr",
          "text": [
            "100%|██████████| 45/45 [00:00<00:00, 396.00it/s]\n"
          ]
        },
        {
          "output_type": "stream",
          "name": "stdout",
          "text": [
            "WARNING - DeprecationWarning: use_default_protocol will be removed in future. Please use corrupt_side argument instead.\n"
          ]
        },
        {
          "output_type": "stream",
          "name": "stderr",
          "text": [
            "100%|██████████| 45/45 [00:00<00:00, 390.72it/s]\n"
          ]
        },
        {
          "output_type": "stream",
          "name": "stdout",
          "text": [
            "WARNING - DeprecationWarning: use_default_protocol will be removed in future. Please use corrupt_side argument instead.\n"
          ]
        },
        {
          "output_type": "stream",
          "name": "stderr",
          "text": [
            "100%|██████████| 45/45 [00:00<00:00, 449.68it/s]\n"
          ]
        },
        {
          "output_type": "stream",
          "name": "stdout",
          "text": [
            "WARNING - DeprecationWarning: use_default_protocol will be removed in future. Please use corrupt_side argument instead.\n"
          ]
        },
        {
          "output_type": "stream",
          "name": "stderr",
          "text": [
            "100%|██████████| 45/45 [00:00<00:00, 473.58it/s]\n"
          ]
        },
        {
          "output_type": "stream",
          "name": "stdout",
          "text": [
            "WARNING - DeprecationWarning: use_default_protocol will be removed in future. Please use corrupt_side argument instead.\n"
          ]
        },
        {
          "output_type": "stream",
          "name": "stderr",
          "text": [
            "100%|██████████| 45/45 [00:00<00:00, 441.45it/s]\n"
          ]
        },
        {
          "output_type": "stream",
          "name": "stdout",
          "text": [
            "WARNING - DeprecationWarning: use_default_protocol will be removed in future. Please use corrupt_side argument instead.\n"
          ]
        },
        {
          "output_type": "stream",
          "name": "stderr",
          "text": [
            "100%|██████████| 45/45 [00:00<00:00, 371.82it/s]\n"
          ]
        },
        {
          "output_type": "stream",
          "name": "stdout",
          "text": [
            "WARNING - DeprecationWarning: use_default_protocol will be removed in future. Please use corrupt_side argument instead.\n"
          ]
        },
        {
          "output_type": "stream",
          "name": "stderr",
          "text": [
            "100%|██████████| 45/45 [00:00<00:00, 346.71it/s]\n"
          ]
        },
        {
          "output_type": "stream",
          "name": "stdout",
          "text": [
            "WARNING - DeprecationWarning: use_default_protocol will be removed in future. Please use corrupt_side argument instead.\n"
          ]
        },
        {
          "output_type": "stream",
          "name": "stderr",
          "text": [
            "100%|██████████| 45/45 [00:00<00:00, 345.21it/s]\n"
          ]
        },
        {
          "output_type": "stream",
          "name": "stdout",
          "text": [
            "WARNING - DeprecationWarning: use_default_protocol will be removed in future. Please use corrupt_side argument instead.\n"
          ]
        },
        {
          "output_type": "stream",
          "name": "stderr",
          "text": [
            "100%|██████████| 45/45 [00:00<00:00, 350.38it/s]\n"
          ]
        }
      ]
    },
    {
      "cell_type": "code",
      "source": [
        "from ampligraph.evaluation import mr_score, mrr_score, hits_at_n_score\n",
        "\n",
        "for name, rank in ranks:\n",
        "  print(\"===============\" + name + \"====================================\")\n",
        "  print(\"MRR: %.2f\" % mrr_score(rank))\n",
        "  print(\"Hits@10: %.2f\" % (hits_at_n_score(rank, n=10)))\n",
        "  print(\"Hits@3: %.2f\" % (hits_at_n_score(rank, n=3)))\n",
        "  print(\"Hits@1: %.2f\" % (hits_at_n_score(rank, n=1)))\n"
      ],
      "metadata": {
        "colab": {
          "base_uri": "https://localhost:8080/"
        },
        "id": "5lzUtGlsLh64",
        "outputId": "4dc873e9-2557-4375-e43e-496b7c09ed89"
      },
      "execution_count": null,
      "outputs": [
        {
          "output_type": "stream",
          "name": "stdout",
          "text": [
            "===============rank_TransE_sgd====================================\n",
            "MRR: 0.34\n",
            "Hits@10: 0.88\n",
            "Hits@3: 0.61\n",
            "Hits@1: 0.04\n",
            "===============rank_TransE_adagrad====================================\n",
            "MRR: 0.28\n",
            "Hits@10: 0.74\n",
            "Hits@3: 0.47\n",
            "Hits@1: 0.02\n",
            "===============rank_TransE_adam====================================\n",
            "MRR: 0.33\n",
            "Hits@10: 0.79\n",
            "Hits@3: 0.49\n",
            "Hits@1: 0.10\n",
            "===============rank_TransE_momentum====================================\n",
            "MRR: 0.30\n",
            "Hits@10: 0.79\n",
            "Hits@3: 0.49\n",
            "Hits@1: 0.04\n",
            "===============rank_DistMult_sgd====================================\n",
            "MRR: 0.04\n",
            "Hits@10: 0.04\n",
            "Hits@3: 0.00\n",
            "Hits@1: 0.00\n",
            "===============rank_DistMult_adagrad====================================\n",
            "MRR: 0.08\n",
            "Hits@10: 0.23\n",
            "Hits@3: 0.04\n",
            "Hits@1: 0.01\n",
            "===============rank_DistMult_adam====================================\n",
            "MRR: 0.29\n",
            "Hits@10: 0.60\n",
            "Hits@3: 0.37\n",
            "Hits@1: 0.11\n",
            "===============rank_DistMult_momentum====================================\n",
            "MRR: 0.35\n",
            "Hits@10: 0.77\n",
            "Hits@3: 0.42\n",
            "Hits@1: 0.17\n",
            "===============rank_ComplEx_sgd====================================\n",
            "MRR: 0.08\n",
            "Hits@10: 0.17\n",
            "Hits@3: 0.06\n",
            "Hits@1: 0.02\n",
            "===============rank_ComplEx_adagrad====================================\n",
            "MRR: 0.05\n",
            "Hits@10: 0.10\n",
            "Hits@3: 0.01\n",
            "Hits@1: 0.00\n",
            "===============rank_ComplEx_adam====================================\n",
            "MRR: 0.37\n",
            "Hits@10: 0.73\n",
            "Hits@3: 0.47\n",
            "Hits@1: 0.22\n",
            "===============rank_ComplEx_momentum====================================\n",
            "MRR: 0.36\n",
            "Hits@10: 0.72\n",
            "Hits@3: 0.48\n",
            "Hits@1: 0.17\n"
          ]
        }
      ]
    },
    {
      "cell_type": "markdown",
      "source": [
        "# 5.Predicting New Links"
      ],
      "metadata": {
        "id": "K9uh1C9OAKD3"
      }
    },
    {
      "cell_type": "code",
      "metadata": {
        "id": "twTCvu6nmlRw"
      },
      "source": [
        "unseen_filter = np.array(list({tuple(i) for i in np.vstack((positives_filter, X_unseen))}))"
      ],
      "execution_count": null,
      "outputs": []
    },
    {
      "cell_type": "code",
      "source": [
        "ranks_unseen = []\n",
        "\n",
        "for name, model in models:\n",
        "  tmp =  evaluate_performance(\n",
        "    X_unseen, \n",
        "    model=model, \n",
        "    filter_triples=unseen_filter,   # Corruption strategy filter defined above \n",
        "    corrupt_side = 's+o',\n",
        "    use_default_protocol=False, # corrupt subj and obj separately while evaluating\n",
        "    verbose=True\n",
        "  )\n",
        "  ranks_unseen.append((\"rank_unseen_\"+ name, tmp))\n",
        "  tmp = []"
      ],
      "metadata": {
        "colab": {
          "base_uri": "https://localhost:8080/"
        },
        "id": "7l1f_f6TMXDV",
        "outputId": "898091f0-99b1-4bae-9b3c-09a641128fa3"
      },
      "execution_count": null,
      "outputs": [
        {
          "output_type": "stream",
          "name": "stderr",
          "text": [
            "100%|██████████| 51476/51476 [01:11<00:00, 718.96it/s]\n",
            "100%|██████████| 51476/51476 [01:11<00:00, 723.82it/s]\n",
            "100%|██████████| 51476/51476 [01:11<00:00, 720.27it/s]\n",
            "100%|██████████| 51476/51476 [01:09<00:00, 738.82it/s]\n",
            "100%|██████████| 51476/51476 [01:09<00:00, 738.64it/s]\n",
            "100%|██████████| 51476/51476 [01:09<00:00, 741.47it/s]\n",
            "100%|██████████| 51476/51476 [01:10<00:00, 734.29it/s]\n",
            "100%|██████████| 51476/51476 [01:09<00:00, 738.87it/s]\n",
            "100%|██████████| 51476/51476 [01:20<00:00, 642.82it/s]\n",
            "100%|██████████| 51476/51476 [01:20<00:00, 638.52it/s]\n",
            "100%|██████████| 51476/51476 [01:20<00:00, 639.85it/s]\n",
            "100%|██████████| 51476/51476 [01:20<00:00, 642.70it/s]\n"
          ]
        }
      ]
    },
    {
      "cell_type": "code",
      "source": [
        "scores = []\n",
        "\n",
        "for name, model in models:\n",
        "  tmp =  model.predict(X_unseen)\n",
        "  scores.append((\"scores\"+ name, tmp))\n",
        "  tmp = []\n"
      ],
      "metadata": {
        "id": "E8AGWCrrNTGo"
      },
      "execution_count": null,
      "outputs": []
    },
    {
      "cell_type": "code",
      "source": [
        "from scipy.special import expit\n",
        "\n",
        "probs = []\n",
        "\n",
        "for name, score in scores:\n",
        "  tmp =  expit(score)\n",
        "  probs.append((\"probs\"+ name, tmp))\n",
        "  tmp = []\n"
      ],
      "metadata": {
        "id": "8NaliboTNWMx"
      },
      "execution_count": null,
      "outputs": []
    },
    {
      "cell_type": "code",
      "source": [
        "g = []\n",
        "\n",
        "for index in range(len(models)):\n",
        "  tmp = pd.DataFrame(list(zip([' '.join(x) for x in X_unseen], \n",
        "                      ranks_unseen[index][1], \n",
        "                      np.squeeze(scores[index][1]),\n",
        "                      np.squeeze(probs[index][1]))), \n",
        "             columns=['statement', 'rank', 'score', 'prob']).sort_values(\"score\")\n",
        "  g.append((\"g\"+ models[index][0], tmp))\n",
        "  tmp = []"
      ],
      "metadata": {
        "id": "p2-YsXyiNkc4"
      },
      "execution_count": null,
      "outputs": []
    },
    {
      "cell_type": "code",
      "source": [
        "for name, g_value in g:\n",
        "  print(\"=======================\"+name+\"================\")\n",
        "  print(g_value.sort_values(by=['prob'],ascending=False))"
      ],
      "metadata": {
        "colab": {
          "base_uri": "https://localhost:8080/"
        },
        "id": "RMkLi65iQCoS",
        "outputId": "47e03456-6842-4e78-92d9-1e43e9c188ea"
      },
      "execution_count": null,
      "outputs": [
        {
          "output_type": "stream",
          "name": "stdout",
          "text": [
            "=======================gTransE_sgd================\n",
            "                                               statement  ...          prob\n",
            "28574  Local Administration SHELTER Provincial Admini...  ...  1.494845e-06\n",
            "45333  Office of the Prime Minister SHELTER MANAGEMEN...  ...  7.875685e-07\n",
            "28561   Local Administration SHELTER Ministry of Defense  ...  5.892174e-07\n",
            "13627  Disaster Prevention and Mitigation Department ...  ...  5.383280e-07\n",
            "28564  Local Administration SHELTER Ministry of Interior  ...  4.948232e-07\n",
            "...                                                  ...  ...           ...\n",
            "5672   Ayutthaya's Rama VI dam SUPPLIES Industrial Es...  ...  3.668080e-13\n",
            "5708    Ayutthaya's Rama VI dam SUPPLIES Royal Thai Army  ...  3.196739e-13\n",
            "45943  Princess Chulabhorn Satellite Receiving Statio...  ...  3.048105e-13\n",
            "1532   Agricultural Economic Office ASSESSMENT Minist...  ...  2.039364e-13\n",
            "17710  Federation of Thai Industry ASSESSMENT Ministr...  ...  1.901734e-13\n",
            "\n",
            "[51476 rows x 4 columns]\n",
            "=======================gTransE_adagrad================\n",
            "                                               statement  ...          prob\n",
            "13574  Disaster Prevention and Mitigation Department ...  ...  2.894380e-07\n",
            "13676  Disaster Prevention and Mitigation Department ...  ...  2.443230e-07\n",
            "28482  Local Administration SAFE Provincial Administr...  ...  2.204489e-07\n",
            "36499  Ministry of Agriculture and Cooperatives PROCE...  ...  1.707987e-07\n",
            "46540  Provincial Administration EVACUATION Royal Irr...  ...  1.638450e-07\n",
            "...                                                  ...  ...           ...\n",
            "25340  Hydro and Agro Informatics Institute RESTORATI...  ...  3.034834e-12\n",
            "25316  Hydro and Agro Informatics Institute RESTORATI...  ...  2.693169e-12\n",
            "45903                   Political Party SURVEY Volunteer  ...  1.775624e-12\n",
            "33192  Local Military RESTORATION Ministry of Science...  ...  1.466235e-12\n",
            "10894  Department of Disaster Prevention and Mitigati...  ...  7.878725e-13\n",
            "\n",
            "[51476 rows x 4 columns]\n",
            "=======================gTransE_adam================\n",
            "                                               statement  ...          prob\n",
            "13676  Disaster Prevention and Mitigation Department ...  ...  6.171489e-07\n",
            "45319  Office of the Prime Minister SHELTER Royal Tha...  ...  3.977063e-07\n",
            "41121  Ministry of Interior SANITATION Provincial Adm...  ...  3.059836e-07\n",
            "45317  Office of the Prime Minister SHELTER Royal Irr...  ...  2.820946e-07\n",
            "13592  Disaster Prevention and Mitigation Department ...  ...  1.373767e-07\n",
            "...                                                  ...  ...           ...\n",
            "21875  Hi-Tech Industrial Estate PROCEDURES Kasetsart...  ...  2.529133e-20\n",
            "7521   Community Leader DISSEMINATION Hi-Tech Industr...  ...  2.311304e-20\n",
            "48516          Regional Office of Fine Arts ASSET Temple  ...  1.649220e-20\n",
            "25773           Industrial Estate Authority ASSET Temple  ...  9.155932e-21\n",
            "48866                             Residents ASSET Temple  ...  3.189264e-22\n",
            "\n",
            "[51476 rows x 4 columns]\n",
            "=======================gTransE_momentum================\n",
            "                                               statement  ...          prob\n",
            "13735  Disaster Prevention and Mitigation Department ...  ...  2.216287e-08\n",
            "45333  Office of the Prime Minister SHELTER MANAGEMEN...  ...  1.565053e-08\n",
            "28574  Local Administration SHELTER Provincial Admini...  ...  1.267220e-08\n",
            "13710  Disaster Prevention and Mitigation Department ...  ...  1.004831e-08\n",
            "34177          Local Police SANITATION Royal Thai Police  ...  8.009747e-09\n",
            "...                                                  ...  ...           ...\n",
            "28794  Local Authorities ASSESSMENT Ministry of Natur...  ...  1.834899e-18\n",
            "35449  Ministry of Agriculture and Cooperative EASE O...  ...  1.827445e-18\n",
            "26759  Kasetsart University ASSESSMENT Ministry of Na...  ...  1.220037e-18\n",
            "17710  Federation of Thai Industry ASSESSMENT Ministr...  ...  2.620171e-19\n",
            "35436  Ministry of Agriculture and Cooperative EASE M...  ...  1.947547e-19\n",
            "\n",
            "[51476 rows x 4 columns]\n",
            "=======================gDistMult_sgd================\n",
            "                                               statement  ...      prob\n",
            "11633  Department of Disease Control DISSEMINATION Ri...  ...  0.512922\n",
            "48559  Regional Office of Fine Arts DISSEMINATION Riv...  ...  0.512065\n",
            "18047  Federation of Thai Industry EVACUATION Politic...  ...  0.511743\n",
            "34101        Local Police RESTORATION Tourism Department  ...  0.511596\n",
            "28353    Local Administration PROCEDURES Royal Thai Army  ...  0.511371\n",
            "...                                                  ...  ...       ...\n",
            "26790    Kasetsart University ASSET Local Administration  ...  0.488875\n",
            "43328  Ministry of Tourism and Sports DISSEMINATION T...  ...  0.488311\n",
            "437    18th Military Circle EVACUATION Ministry of Ag...  ...  0.487989\n",
            "38499  Ministry of Defense ASSET Regional Office of F...  ...  0.487806\n",
            "32346                Local Leader SAFE Third Army Region  ...  0.486124\n",
            "\n",
            "[51476 rows x 4 columns]\n",
            "=======================gDistMult_adagrad================\n",
            "                                               statement  ...      prob\n",
            "22454  His Majesty the King ASSET Ministry of Agricul...  ...  0.514771\n",
            "28224  Local Administration NEEDS MANAGEMENT Unidenti...  ...  0.513737\n",
            "18644  Federation of Thai Industry SHELTER Ministry o...  ...  0.513584\n",
            "43875  National Defence College CENTER Provincial Adm...  ...  0.513554\n",
            "40812  Ministry of Interior EVACUATION Office of the ...  ...  0.512921\n",
            "...                                                  ...  ...       ...\n",
            "4980   Ayutthaya's Rama VI dam MEDICAL National Disas...  ...  0.487062\n",
            "44970  Office of the Prime Minister CAPABILITY Royal ...  ...  0.486401\n",
            "24291  Honda Automobile (Thailand) SAFE Public Relati...  ...  0.486216\n",
            "27828  Local Administration ASSET Meteorological Depa...  ...  0.486193\n",
            "40135  Ministry of Industry EVACUATION Utaintawai Stu...  ...  0.485619\n",
            "\n",
            "[51476 rows x 4 columns]\n",
            "=======================gDistMult_adam================\n",
            "                                               statement  ...      prob\n",
            "1508   Agricultural Economic Office ASSESSMENT Foresi...  ...  0.999982\n",
            "31136  Local Hospitals NEEDS MANAGEMENT Ministry of P...  ...  0.999959\n",
            "1333   18th Military Circle SUPPLIES National Defence...  ...  0.999931\n",
            "41180  Ministry of Interior SHELTER MANAGEMENT Office...  ...  0.999923\n",
            "34327              Local Police SURVEY Provincial Police  ...  0.999917\n",
            "...                                                  ...  ...       ...\n",
            "43760  Ministry of Tourism and Sports SURVEY Unidenti...  ...  0.007966\n",
            "43148  Ministry of Science and Technology SURVEY Offi...  ...  0.007463\n",
            "27011  Kasetsart University EASE Royal Irrigation Dep...  ...  0.006472\n",
            "13861  Disaster Prevention and Mitigation Department ...  ...  0.006366\n",
            "37586  Ministry of Culture SUPPLIES Provincial Admini...  ...  0.006140\n",
            "\n",
            "[51476 rows x 4 columns]\n",
            "=======================gDistMult_momentum================\n",
            "                                               statement  ...      prob\n",
            "28666  Local Administration SUPPLIES Provincial Admin...  ...  0.999665\n",
            "46811  Provincial Administration SUPPLIES Royal Irrig...  ...  0.999635\n",
            "13769  Disaster Prevention and Mitigation Department ...  ...  0.999261\n",
            "13799  Disaster Prevention and Mitigation Department ...  ...  0.999155\n",
            "40905  Ministry of Interior NEEDS MANAGEMENT Office o...  ...  0.998738\n",
            "...                                                  ...  ...       ...\n",
            "13232  Disaster Prevention and Mitigation Department ...  ...  0.036214\n",
            "40922  Ministry of Interior NEEDS MANAGEMENT Tourism ...  ...  0.035543\n",
            "45139  Office of the Prime Minister NEEDS MANAGEMENT ...  ...  0.034462\n",
            "40902  Ministry of Interior NEEDS MANAGEMENT Ministry...  ...  0.032659\n",
            "43445  Ministry of Tourism and Sports NEEDS MANAGEMEN...  ...  0.028372\n",
            "\n",
            "[51476 rows x 4 columns]\n",
            "=======================gComplEx_sgd================\n",
            "                                               statement  ...      prob\n",
            "12120  Department of Disease Control PROCEDURES Third...  ...  0.514891\n",
            "42401   Ministry of Public Health SAFE Royal Thai Police  ...  0.511295\n",
            "9968   Department of Agricultural Extension URGE Loca...  ...  0.510432\n",
            "50039                       Royal Thai Navy ASSET Temple  ...  0.510382\n",
            "23014  His Majesty the King PROCEDURES Ministry of Ag...  ...  0.510258\n",
            "...                                                  ...  ...       ...\n",
            "20318  Her Majesty Queen Sirikit DISSEMINATION Minist...  ...  0.489546\n",
            "46485  Provincial Administration CENTER Royal Thai Po...  ...  0.489215\n",
            "15005  Disaster Prevention and Mitigation Office SHEL...  ...  0.489093\n",
            "19582  Foresight Center for Agriculture PROCEDURES Ri...  ...  0.488692\n",
            "23853  Honda Automobile (Thailand) EVACUATION Tourism...  ...  0.488612\n",
            "\n",
            "[51476 rows x 4 columns]\n",
            "=======================gComplEx_adagrad================\n",
            "                                               statement  ...      prob\n",
            "4470        Ayutthaya's Rama VI dam ASSESSMENT Residents  ...  0.512711\n",
            "17529                     Farmer SUPPLIES Local Hospital  ...  0.511831\n",
            "28316  Local Administration PROCEDURE Utaintawai Stud...  ...  0.511818\n",
            "30185  Local Hospital NEEDS MANAGEMENT Princess Chula...  ...  0.511652\n",
            "6803   Chao Phraya Dam Authority RESTORATION Third Ar...  ...  0.511290\n",
            "...                                                  ...  ...       ...\n",
            "19783  Foresight Center for Agriculture SANITATION Mi...  ...  0.489507\n",
            "24173  Honda Automobile (Thailand) RESCUE Ministry of...  ...  0.489381\n",
            "39123     Ministry of Defense SURVEY Ministry of Finance  ...  0.488938\n",
            "39989  Ministry of Industry CAPABILITY Princess Chula...  ...  0.487504\n",
            "49517  Royal Irrigation Department CAPABILITY Unident...  ...  0.486173\n",
            "\n",
            "[51476 rows x 4 columns]\n",
            "=======================gComplEx_adam================\n",
            "                                               statement  ...      prob\n",
            "42479  Ministry of Public Health SHELTER MANAGEMENT P...  ...  0.991082\n",
            "23180  His Majesty the King SAFE Office of the Prime ...  ...  0.990021\n",
            "49843  Royal Thai Army EVACUATION Utaintawai Student ...  ...  0.989654\n",
            "36470  Ministry of Agriculture and Cooperatives PREDI...  ...  0.988013\n",
            "36654  Ministry of Agriculture and Cooperatives SAFE ...  ...  0.986923\n",
            "...                                                  ...  ...       ...\n",
            "26120  Industrial Estate Authority NEEDS MANAGEMENT L...  ...  0.016613\n",
            "13785  Disaster Prevention and Mitigation Department ...  ...  0.016050\n",
            "49555  Royal Irrigation Department EASE Utaintawai St...  ...  0.016040\n",
            "18925  Foresight Center for Agriculture ASSESSMENT Of...  ...  0.015024\n",
            "49554  Royal Irrigation Department EASE Tourism Depar...  ...  0.014023\n",
            "\n",
            "[51476 rows x 4 columns]\n",
            "=======================gComplEx_momentum================\n",
            "                                               statement  ...      prob\n",
            "45046     Office of the Prime Minister EASE Unidentified  ...  0.999676\n",
            "45357  Office of the Prime Minister SUPPLIES Provinci...  ...  0.999511\n",
            "45031  Office of the Prime Minister EASE Provincial A...  ...  0.998779\n",
            "36279  Ministry of Agriculture and Cooperatives EASE ...  ...  0.998667\n",
            "13046  Disaster Prevention and Mitigation Department ...  ...  0.998622\n",
            "...                                                  ...  ...       ...\n",
            "28195  Local Administration NEEDS MANAGEMENT Ministry...  ...  0.005637\n",
            "33916          Local Police PREDICT Ministry of Interior  ...  0.004781\n",
            "33926     Local Police PREDICT Provincial Administration  ...  0.004416\n",
            "33876  Local Police NEEDS MANAGEMENT Ministry of Inte...  ...  0.004349\n",
            "28238  Local Administration PREDICT Ministry of Agric...  ...  0.003268\n",
            "\n",
            "[51476 rows x 4 columns]\n"
          ]
        }
      ]
    },
    {
      "cell_type": "code",
      "source": [
        "from google.colab import files\n",
        "\n",
        "for name, g_value in g:\n",
        "  g_value.to_excel(name+'.xlsx', sheet_name='Result')\n",
        "  files.download(name+'.xlsx')"
      ],
      "metadata": {
        "colab": {
          "base_uri": "https://localhost:8080/",
          "height": 225
        },
        "id": "RiE1aL7bTB-8",
        "outputId": "78a276ef-daff-4c68-b7bd-6bcfa2f36be0"
      },
      "execution_count": null,
      "outputs": [
        {
          "output_type": "display_data",
          "data": {
            "application/javascript": [
              "\n",
              "    async function download(id, filename, size) {\n",
              "      if (!google.colab.kernel.accessAllowed) {\n",
              "        return;\n",
              "      }\n",
              "      const div = document.createElement('div');\n",
              "      const label = document.createElement('label');\n",
              "      label.textContent = `Downloading \"${filename}\": `;\n",
              "      div.appendChild(label);\n",
              "      const progress = document.createElement('progress');\n",
              "      progress.max = size;\n",
              "      div.appendChild(progress);\n",
              "      document.body.appendChild(div);\n",
              "\n",
              "      const buffers = [];\n",
              "      let downloaded = 0;\n",
              "\n",
              "      const channel = await google.colab.kernel.comms.open(id);\n",
              "      // Send a message to notify the kernel that we're ready.\n",
              "      channel.send({})\n",
              "\n",
              "      for await (const message of channel.messages) {\n",
              "        // Send a message to notify the kernel that we're ready.\n",
              "        channel.send({})\n",
              "        if (message.buffers) {\n",
              "          for (const buffer of message.buffers) {\n",
              "            buffers.push(buffer);\n",
              "            downloaded += buffer.byteLength;\n",
              "            progress.value = downloaded;\n",
              "          }\n",
              "        }\n",
              "      }\n",
              "      const blob = new Blob(buffers, {type: 'application/binary'});\n",
              "      const a = document.createElement('a');\n",
              "      a.href = window.URL.createObjectURL(blob);\n",
              "      a.download = filename;\n",
              "      div.appendChild(a);\n",
              "      a.click();\n",
              "      div.remove();\n",
              "    }\n",
              "  "
            ],
            "text/plain": [
              "<IPython.core.display.Javascript object>"
            ]
          },
          "metadata": {}
        },
        {
          "output_type": "display_data",
          "data": {
            "application/javascript": [
              "download(\"download_e35c575d-a8c1-4f22-8fb1-d4f7cd9522e7\", \"gTransE_sgd.xlsx\", 2635886)"
            ],
            "text/plain": [
              "<IPython.core.display.Javascript object>"
            ]
          },
          "metadata": {}
        },
        {
          "output_type": "display_data",
          "data": {
            "application/javascript": [
              "\n",
              "    async function download(id, filename, size) {\n",
              "      if (!google.colab.kernel.accessAllowed) {\n",
              "        return;\n",
              "      }\n",
              "      const div = document.createElement('div');\n",
              "      const label = document.createElement('label');\n",
              "      label.textContent = `Downloading \"${filename}\": `;\n",
              "      div.appendChild(label);\n",
              "      const progress = document.createElement('progress');\n",
              "      progress.max = size;\n",
              "      div.appendChild(progress);\n",
              "      document.body.appendChild(div);\n",
              "\n",
              "      const buffers = [];\n",
              "      let downloaded = 0;\n",
              "\n",
              "      const channel = await google.colab.kernel.comms.open(id);\n",
              "      // Send a message to notify the kernel that we're ready.\n",
              "      channel.send({})\n",
              "\n",
              "      for await (const message of channel.messages) {\n",
              "        // Send a message to notify the kernel that we're ready.\n",
              "        channel.send({})\n",
              "        if (message.buffers) {\n",
              "          for (const buffer of message.buffers) {\n",
              "            buffers.push(buffer);\n",
              "            downloaded += buffer.byteLength;\n",
              "            progress.value = downloaded;\n",
              "          }\n",
              "        }\n",
              "      }\n",
              "      const blob = new Blob(buffers, {type: 'application/binary'});\n",
              "      const a = document.createElement('a');\n",
              "      a.href = window.URL.createObjectURL(blob);\n",
              "      a.download = filename;\n",
              "      div.appendChild(a);\n",
              "      a.click();\n",
              "      div.remove();\n",
              "    }\n",
              "  "
            ],
            "text/plain": [
              "<IPython.core.display.Javascript object>"
            ]
          },
          "metadata": {}
        },
        {
          "output_type": "display_data",
          "data": {
            "application/javascript": [
              "download(\"download_d69f3151-a4bc-4362-87eb-3855a6079360\", \"gTransE_adagrad.xlsx\", 2634003)"
            ],
            "text/plain": [
              "<IPython.core.display.Javascript object>"
            ]
          },
          "metadata": {}
        },
        {
          "output_type": "display_data",
          "data": {
            "application/javascript": [
              "\n",
              "    async function download(id, filename, size) {\n",
              "      if (!google.colab.kernel.accessAllowed) {\n",
              "        return;\n",
              "      }\n",
              "      const div = document.createElement('div');\n",
              "      const label = document.createElement('label');\n",
              "      label.textContent = `Downloading \"${filename}\": `;\n",
              "      div.appendChild(label);\n",
              "      const progress = document.createElement('progress');\n",
              "      progress.max = size;\n",
              "      div.appendChild(progress);\n",
              "      document.body.appendChild(div);\n",
              "\n",
              "      const buffers = [];\n",
              "      let downloaded = 0;\n",
              "\n",
              "      const channel = await google.colab.kernel.comms.open(id);\n",
              "      // Send a message to notify the kernel that we're ready.\n",
              "      channel.send({})\n",
              "\n",
              "      for await (const message of channel.messages) {\n",
              "        // Send a message to notify the kernel that we're ready.\n",
              "        channel.send({})\n",
              "        if (message.buffers) {\n",
              "          for (const buffer of message.buffers) {\n",
              "            buffers.push(buffer);\n",
              "            downloaded += buffer.byteLength;\n",
              "            progress.value = downloaded;\n",
              "          }\n",
              "        }\n",
              "      }\n",
              "      const blob = new Blob(buffers, {type: 'application/binary'});\n",
              "      const a = document.createElement('a');\n",
              "      a.href = window.URL.createObjectURL(blob);\n",
              "      a.download = filename;\n",
              "      div.appendChild(a);\n",
              "      a.click();\n",
              "      div.remove();\n",
              "    }\n",
              "  "
            ],
            "text/plain": [
              "<IPython.core.display.Javascript object>"
            ]
          },
          "metadata": {}
        },
        {
          "output_type": "display_data",
          "data": {
            "application/javascript": [
              "download(\"download_c222742c-5a9d-40f3-bea3-02969b6186b7\", \"gTransE_adam.xlsx\", 2638341)"
            ],
            "text/plain": [
              "<IPython.core.display.Javascript object>"
            ]
          },
          "metadata": {}
        },
        {
          "output_type": "display_data",
          "data": {
            "application/javascript": [
              "\n",
              "    async function download(id, filename, size) {\n",
              "      if (!google.colab.kernel.accessAllowed) {\n",
              "        return;\n",
              "      }\n",
              "      const div = document.createElement('div');\n",
              "      const label = document.createElement('label');\n",
              "      label.textContent = `Downloading \"${filename}\": `;\n",
              "      div.appendChild(label);\n",
              "      const progress = document.createElement('progress');\n",
              "      progress.max = size;\n",
              "      div.appendChild(progress);\n",
              "      document.body.appendChild(div);\n",
              "\n",
              "      const buffers = [];\n",
              "      let downloaded = 0;\n",
              "\n",
              "      const channel = await google.colab.kernel.comms.open(id);\n",
              "      // Send a message to notify the kernel that we're ready.\n",
              "      channel.send({})\n",
              "\n",
              "      for await (const message of channel.messages) {\n",
              "        // Send a message to notify the kernel that we're ready.\n",
              "        channel.send({})\n",
              "        if (message.buffers) {\n",
              "          for (const buffer of message.buffers) {\n",
              "            buffers.push(buffer);\n",
              "            downloaded += buffer.byteLength;\n",
              "            progress.value = downloaded;\n",
              "          }\n",
              "        }\n",
              "      }\n",
              "      const blob = new Blob(buffers, {type: 'application/binary'});\n",
              "      const a = document.createElement('a');\n",
              "      a.href = window.URL.createObjectURL(blob);\n",
              "      a.download = filename;\n",
              "      div.appendChild(a);\n",
              "      a.click();\n",
              "      div.remove();\n",
              "    }\n",
              "  "
            ],
            "text/plain": [
              "<IPython.core.display.Javascript object>"
            ]
          },
          "metadata": {}
        },
        {
          "output_type": "display_data",
          "data": {
            "application/javascript": [
              "download(\"download_f6ef451a-e34d-4410-ab16-5fc9b889d8bd\", \"gTransE_momentum.xlsx\", 2638842)"
            ],
            "text/plain": [
              "<IPython.core.display.Javascript object>"
            ]
          },
          "metadata": {}
        },
        {
          "output_type": "display_data",
          "data": {
            "application/javascript": [
              "\n",
              "    async function download(id, filename, size) {\n",
              "      if (!google.colab.kernel.accessAllowed) {\n",
              "        return;\n",
              "      }\n",
              "      const div = document.createElement('div');\n",
              "      const label = document.createElement('label');\n",
              "      label.textContent = `Downloading \"${filename}\": `;\n",
              "      div.appendChild(label);\n",
              "      const progress = document.createElement('progress');\n",
              "      progress.max = size;\n",
              "      div.appendChild(progress);\n",
              "      document.body.appendChild(div);\n",
              "\n",
              "      const buffers = [];\n",
              "      let downloaded = 0;\n",
              "\n",
              "      const channel = await google.colab.kernel.comms.open(id);\n",
              "      // Send a message to notify the kernel that we're ready.\n",
              "      channel.send({})\n",
              "\n",
              "      for await (const message of channel.messages) {\n",
              "        // Send a message to notify the kernel that we're ready.\n",
              "        channel.send({})\n",
              "        if (message.buffers) {\n",
              "          for (const buffer of message.buffers) {\n",
              "            buffers.push(buffer);\n",
              "            downloaded += buffer.byteLength;\n",
              "            progress.value = downloaded;\n",
              "          }\n",
              "        }\n",
              "      }\n",
              "      const blob = new Blob(buffers, {type: 'application/binary'});\n",
              "      const a = document.createElement('a');\n",
              "      a.href = window.URL.createObjectURL(blob);\n",
              "      a.download = filename;\n",
              "      div.appendChild(a);\n",
              "      a.click();\n",
              "      div.remove();\n",
              "    }\n",
              "  "
            ],
            "text/plain": [
              "<IPython.core.display.Javascript object>"
            ]
          },
          "metadata": {}
        },
        {
          "output_type": "display_data",
          "data": {
            "application/javascript": [
              "download(\"download_f033b0a2-8b9b-4713-9c51-ec8b508570fc\", \"gDistMult_sgd.xlsx\", 2598024)"
            ],
            "text/plain": [
              "<IPython.core.display.Javascript object>"
            ]
          },
          "metadata": {}
        },
        {
          "output_type": "display_data",
          "data": {
            "application/javascript": [
              "\n",
              "    async function download(id, filename, size) {\n",
              "      if (!google.colab.kernel.accessAllowed) {\n",
              "        return;\n",
              "      }\n",
              "      const div = document.createElement('div');\n",
              "      const label = document.createElement('label');\n",
              "      label.textContent = `Downloading \"${filename}\": `;\n",
              "      div.appendChild(label);\n",
              "      const progress = document.createElement('progress');\n",
              "      progress.max = size;\n",
              "      div.appendChild(progress);\n",
              "      document.body.appendChild(div);\n",
              "\n",
              "      const buffers = [];\n",
              "      let downloaded = 0;\n",
              "\n",
              "      const channel = await google.colab.kernel.comms.open(id);\n",
              "      // Send a message to notify the kernel that we're ready.\n",
              "      channel.send({})\n",
              "\n",
              "      for await (const message of channel.messages) {\n",
              "        // Send a message to notify the kernel that we're ready.\n",
              "        channel.send({})\n",
              "        if (message.buffers) {\n",
              "          for (const buffer of message.buffers) {\n",
              "            buffers.push(buffer);\n",
              "            downloaded += buffer.byteLength;\n",
              "            progress.value = downloaded;\n",
              "          }\n",
              "        }\n",
              "      }\n",
              "      const blob = new Blob(buffers, {type: 'application/binary'});\n",
              "      const a = document.createElement('a');\n",
              "      a.href = window.URL.createObjectURL(blob);\n",
              "      a.download = filename;\n",
              "      div.appendChild(a);\n",
              "      a.click();\n",
              "      div.remove();\n",
              "    }\n",
              "  "
            ],
            "text/plain": [
              "<IPython.core.display.Javascript object>"
            ]
          },
          "metadata": {}
        },
        {
          "output_type": "display_data",
          "data": {
            "application/javascript": [
              "download(\"download_1672c9bf-66a0-453f-ae4c-52964f4813cb\", \"gDistMult_adagrad.xlsx\", 2602177)"
            ],
            "text/plain": [
              "<IPython.core.display.Javascript object>"
            ]
          },
          "metadata": {}
        },
        {
          "output_type": "display_data",
          "data": {
            "application/javascript": [
              "\n",
              "    async function download(id, filename, size) {\n",
              "      if (!google.colab.kernel.accessAllowed) {\n",
              "        return;\n",
              "      }\n",
              "      const div = document.createElement('div');\n",
              "      const label = document.createElement('label');\n",
              "      label.textContent = `Downloading \"${filename}\": `;\n",
              "      div.appendChild(label);\n",
              "      const progress = document.createElement('progress');\n",
              "      progress.max = size;\n",
              "      div.appendChild(progress);\n",
              "      document.body.appendChild(div);\n",
              "\n",
              "      const buffers = [];\n",
              "      let downloaded = 0;\n",
              "\n",
              "      const channel = await google.colab.kernel.comms.open(id);\n",
              "      // Send a message to notify the kernel that we're ready.\n",
              "      channel.send({})\n",
              "\n",
              "      for await (const message of channel.messages) {\n",
              "        // Send a message to notify the kernel that we're ready.\n",
              "        channel.send({})\n",
              "        if (message.buffers) {\n",
              "          for (const buffer of message.buffers) {\n",
              "            buffers.push(buffer);\n",
              "            downloaded += buffer.byteLength;\n",
              "            progress.value = downloaded;\n",
              "          }\n",
              "        }\n",
              "      }\n",
              "      const blob = new Blob(buffers, {type: 'application/binary'});\n",
              "      const a = document.createElement('a');\n",
              "      a.href = window.URL.createObjectURL(blob);\n",
              "      a.download = filename;\n",
              "      div.appendChild(a);\n",
              "      a.click();\n",
              "      div.remove();\n",
              "    }\n",
              "  "
            ],
            "text/plain": [
              "<IPython.core.display.Javascript object>"
            ]
          },
          "metadata": {}
        },
        {
          "output_type": "display_data",
          "data": {
            "application/javascript": [
              "download(\"download_136cbbe3-e402-4c95-94f0-30fc8d4cc16e\", \"gDistMult_adam.xlsx\", 2687209)"
            ],
            "text/plain": [
              "<IPython.core.display.Javascript object>"
            ]
          },
          "metadata": {}
        },
        {
          "output_type": "display_data",
          "data": {
            "application/javascript": [
              "\n",
              "    async function download(id, filename, size) {\n",
              "      if (!google.colab.kernel.accessAllowed) {\n",
              "        return;\n",
              "      }\n",
              "      const div = document.createElement('div');\n",
              "      const label = document.createElement('label');\n",
              "      label.textContent = `Downloading \"${filename}\": `;\n",
              "      div.appendChild(label);\n",
              "      const progress = document.createElement('progress');\n",
              "      progress.max = size;\n",
              "      div.appendChild(progress);\n",
              "      document.body.appendChild(div);\n",
              "\n",
              "      const buffers = [];\n",
              "      let downloaded = 0;\n",
              "\n",
              "      const channel = await google.colab.kernel.comms.open(id);\n",
              "      // Send a message to notify the kernel that we're ready.\n",
              "      channel.send({})\n",
              "\n",
              "      for await (const message of channel.messages) {\n",
              "        // Send a message to notify the kernel that we're ready.\n",
              "        channel.send({})\n",
              "        if (message.buffers) {\n",
              "          for (const buffer of message.buffers) {\n",
              "            buffers.push(buffer);\n",
              "            downloaded += buffer.byteLength;\n",
              "            progress.value = downloaded;\n",
              "          }\n",
              "        }\n",
              "      }\n",
              "      const blob = new Blob(buffers, {type: 'application/binary'});\n",
              "      const a = document.createElement('a');\n",
              "      a.href = window.URL.createObjectURL(blob);\n",
              "      a.download = filename;\n",
              "      div.appendChild(a);\n",
              "      a.click();\n",
              "      div.remove();\n",
              "    }\n",
              "  "
            ],
            "text/plain": [
              "<IPython.core.display.Javascript object>"
            ]
          },
          "metadata": {}
        },
        {
          "output_type": "display_data",
          "data": {
            "application/javascript": [
              "download(\"download_983acf14-723a-4aa7-ae95-c628cbd55f91\", \"gDistMult_momentum.xlsx\", 2671241)"
            ],
            "text/plain": [
              "<IPython.core.display.Javascript object>"
            ]
          },
          "metadata": {}
        },
        {
          "output_type": "display_data",
          "data": {
            "application/javascript": [
              "\n",
              "    async function download(id, filename, size) {\n",
              "      if (!google.colab.kernel.accessAllowed) {\n",
              "        return;\n",
              "      }\n",
              "      const div = document.createElement('div');\n",
              "      const label = document.createElement('label');\n",
              "      label.textContent = `Downloading \"${filename}\": `;\n",
              "      div.appendChild(label);\n",
              "      const progress = document.createElement('progress');\n",
              "      progress.max = size;\n",
              "      div.appendChild(progress);\n",
              "      document.body.appendChild(div);\n",
              "\n",
              "      const buffers = [];\n",
              "      let downloaded = 0;\n",
              "\n",
              "      const channel = await google.colab.kernel.comms.open(id);\n",
              "      // Send a message to notify the kernel that we're ready.\n",
              "      channel.send({})\n",
              "\n",
              "      for await (const message of channel.messages) {\n",
              "        // Send a message to notify the kernel that we're ready.\n",
              "        channel.send({})\n",
              "        if (message.buffers) {\n",
              "          for (const buffer of message.buffers) {\n",
              "            buffers.push(buffer);\n",
              "            downloaded += buffer.byteLength;\n",
              "            progress.value = downloaded;\n",
              "          }\n",
              "        }\n",
              "      }\n",
              "      const blob = new Blob(buffers, {type: 'application/binary'});\n",
              "      const a = document.createElement('a');\n",
              "      a.href = window.URL.createObjectURL(blob);\n",
              "      a.download = filename;\n",
              "      div.appendChild(a);\n",
              "      a.click();\n",
              "      div.remove();\n",
              "    }\n",
              "  "
            ],
            "text/plain": [
              "<IPython.core.display.Javascript object>"
            ]
          },
          "metadata": {}
        },
        {
          "output_type": "display_data",
          "data": {
            "application/javascript": [
              "download(\"download_adb6df90-fa0b-42df-9dd0-988efde4148e\", \"gComplEx_sgd.xlsx\", 2593424)"
            ],
            "text/plain": [
              "<IPython.core.display.Javascript object>"
            ]
          },
          "metadata": {}
        },
        {
          "output_type": "display_data",
          "data": {
            "application/javascript": [
              "\n",
              "    async function download(id, filename, size) {\n",
              "      if (!google.colab.kernel.accessAllowed) {\n",
              "        return;\n",
              "      }\n",
              "      const div = document.createElement('div');\n",
              "      const label = document.createElement('label');\n",
              "      label.textContent = `Downloading \"${filename}\": `;\n",
              "      div.appendChild(label);\n",
              "      const progress = document.createElement('progress');\n",
              "      progress.max = size;\n",
              "      div.appendChild(progress);\n",
              "      document.body.appendChild(div);\n",
              "\n",
              "      const buffers = [];\n",
              "      let downloaded = 0;\n",
              "\n",
              "      const channel = await google.colab.kernel.comms.open(id);\n",
              "      // Send a message to notify the kernel that we're ready.\n",
              "      channel.send({})\n",
              "\n",
              "      for await (const message of channel.messages) {\n",
              "        // Send a message to notify the kernel that we're ready.\n",
              "        channel.send({})\n",
              "        if (message.buffers) {\n",
              "          for (const buffer of message.buffers) {\n",
              "            buffers.push(buffer);\n",
              "            downloaded += buffer.byteLength;\n",
              "            progress.value = downloaded;\n",
              "          }\n",
              "        }\n",
              "      }\n",
              "      const blob = new Blob(buffers, {type: 'application/binary'});\n",
              "      const a = document.createElement('a');\n",
              "      a.href = window.URL.createObjectURL(blob);\n",
              "      a.download = filename;\n",
              "      div.appendChild(a);\n",
              "      a.click();\n",
              "      div.remove();\n",
              "    }\n",
              "  "
            ],
            "text/plain": [
              "<IPython.core.display.Javascript object>"
            ]
          },
          "metadata": {}
        },
        {
          "output_type": "display_data",
          "data": {
            "application/javascript": [
              "download(\"download_235aae45-6878-4efe-872b-8b3d8b14900a\", \"gComplEx_adagrad.xlsx\", 2593572)"
            ],
            "text/plain": [
              "<IPython.core.display.Javascript object>"
            ]
          },
          "metadata": {}
        },
        {
          "output_type": "display_data",
          "data": {
            "application/javascript": [
              "\n",
              "    async function download(id, filename, size) {\n",
              "      if (!google.colab.kernel.accessAllowed) {\n",
              "        return;\n",
              "      }\n",
              "      const div = document.createElement('div');\n",
              "      const label = document.createElement('label');\n",
              "      label.textContent = `Downloading \"${filename}\": `;\n",
              "      div.appendChild(label);\n",
              "      const progress = document.createElement('progress');\n",
              "      progress.max = size;\n",
              "      div.appendChild(progress);\n",
              "      document.body.appendChild(div);\n",
              "\n",
              "      const buffers = [];\n",
              "      let downloaded = 0;\n",
              "\n",
              "      const channel = await google.colab.kernel.comms.open(id);\n",
              "      // Send a message to notify the kernel that we're ready.\n",
              "      channel.send({})\n",
              "\n",
              "      for await (const message of channel.messages) {\n",
              "        // Send a message to notify the kernel that we're ready.\n",
              "        channel.send({})\n",
              "        if (message.buffers) {\n",
              "          for (const buffer of message.buffers) {\n",
              "            buffers.push(buffer);\n",
              "            downloaded += buffer.byteLength;\n",
              "            progress.value = downloaded;\n",
              "          }\n",
              "        }\n",
              "      }\n",
              "      const blob = new Blob(buffers, {type: 'application/binary'});\n",
              "      const a = document.createElement('a');\n",
              "      a.href = window.URL.createObjectURL(blob);\n",
              "      a.download = filename;\n",
              "      div.appendChild(a);\n",
              "      a.click();\n",
              "      div.remove();\n",
              "    }\n",
              "  "
            ],
            "text/plain": [
              "<IPython.core.display.Javascript object>"
            ]
          },
          "metadata": {}
        },
        {
          "output_type": "display_data",
          "data": {
            "application/javascript": [
              "download(\"download_0c2c2cb7-fdc1-4a8d-acf5-796db9cc20b0\", \"gComplEx_adam.xlsx\", 2685640)"
            ],
            "text/plain": [
              "<IPython.core.display.Javascript object>"
            ]
          },
          "metadata": {}
        },
        {
          "output_type": "display_data",
          "data": {
            "application/javascript": [
              "\n",
              "    async function download(id, filename, size) {\n",
              "      if (!google.colab.kernel.accessAllowed) {\n",
              "        return;\n",
              "      }\n",
              "      const div = document.createElement('div');\n",
              "      const label = document.createElement('label');\n",
              "      label.textContent = `Downloading \"${filename}\": `;\n",
              "      div.appendChild(label);\n",
              "      const progress = document.createElement('progress');\n",
              "      progress.max = size;\n",
              "      div.appendChild(progress);\n",
              "      document.body.appendChild(div);\n",
              "\n",
              "      const buffers = [];\n",
              "      let downloaded = 0;\n",
              "\n",
              "      const channel = await google.colab.kernel.comms.open(id);\n",
              "      // Send a message to notify the kernel that we're ready.\n",
              "      channel.send({})\n",
              "\n",
              "      for await (const message of channel.messages) {\n",
              "        // Send a message to notify the kernel that we're ready.\n",
              "        channel.send({})\n",
              "        if (message.buffers) {\n",
              "          for (const buffer of message.buffers) {\n",
              "            buffers.push(buffer);\n",
              "            downloaded += buffer.byteLength;\n",
              "            progress.value = downloaded;\n",
              "          }\n",
              "        }\n",
              "      }\n",
              "      const blob = new Blob(buffers, {type: 'application/binary'});\n",
              "      const a = document.createElement('a');\n",
              "      a.href = window.URL.createObjectURL(blob);\n",
              "      a.download = filename;\n",
              "      div.appendChild(a);\n",
              "      a.click();\n",
              "      div.remove();\n",
              "    }\n",
              "  "
            ],
            "text/plain": [
              "<IPython.core.display.Javascript object>"
            ]
          },
          "metadata": {}
        },
        {
          "output_type": "display_data",
          "data": {
            "application/javascript": [
              "download(\"download_d5a9782c-ea3c-4d08-8a0c-1d50e5016214\", \"gComplEx_momentum.xlsx\", 2674835)"
            ],
            "text/plain": [
              "<IPython.core.display.Javascript object>"
            ]
          },
          "metadata": {}
        }
      ]
    }
  ]
}